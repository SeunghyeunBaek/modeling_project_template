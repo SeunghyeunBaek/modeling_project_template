{
 "metadata": {
  "language_info": {
   "codemirror_mode": {
    "name": "ipython",
    "version": 3
   },
   "file_extension": ".py",
   "mimetype": "text/x-python",
   "name": "python",
   "nbconvert_exporter": "python",
   "pygments_lexer": "ipython3",
   "version": "3.8.8-final"
  },
  "orig_nbformat": 2,
  "kernelspec": {
   "name": "python3",
   "display_name": "Python 3.8.8 64-bit ('image_classification_project_template': conda)",
   "metadata": {
    "interpreter": {
     "hash": "c79a74f3efcd7457d3fa298f384e0c81278e1d036e66068070e996a1ca407602"
    }
   }
  }
 },
 "nbformat": 4,
 "nbformat_minor": 2,
 "cells": [
  {
   "cell_type": "code",
   "execution_count": 1,
   "metadata": {},
   "outputs": [],
   "source": [
    "import sys, os\n",
    "PRJ_DIR = '/workspace/template_project/image_classification'\n",
    "sys.path.append(PRJ_DIR)"
   ]
  },
  {
   "cell_type": "code",
   "execution_count": 5,
   "metadata": {},
   "outputs": [],
   "source": [
    "from module.metrics import get_metric_function\n",
    "from module.util import load_yaml\n",
    "import os\n",
    "\n",
    "\n",
    "PREDICT_SERIAL = 'DNN_20210322_070350_20210323_021811'\n",
    "\n",
    "RESULT_DIR = '/workspace/template_project/image_classification/result/'\n",
    "PREDICT_RESULT_DIR = os.path.join(RESULT_DIR, 'predict')\n",
    "PREDICT_DIR = os.path.join(os.path.join(PREDICT_RESULT_DIR, PREDICT_SERIAL))\n",
    "PREDICT_RECORD_PATH = os.path.join(PREDICT_DIR, 'record.yml')\n",
    "TRAIN_CONFIG_PATH = os.path.join(PREDICT_DIR, 'train_config.yml')\n",
    "\n",
    "train_config = load_yaml(TRAIN_CONFIG_PATH)\n",
    "predict_record = load_yaml(PREDICT_RECORD_PATH)\n",
    "METRIC_FUNCTION_STR = train_config['TRAIN']['metric_function']"
   ]
  },
  {
   "cell_type": "code",
   "execution_count": 6,
   "metadata": {},
   "outputs": [],
   "source": [
    "get_acc = get_metric_function(METRIC_FUNCTION_STR)\n",
    "get_cm = get_metric_function('confusion_matrix')"
   ]
  },
  {
   "cell_type": "code",
   "execution_count": 14,
   "metadata": {},
   "outputs": [],
   "source": [
    "y = predict_record['test_target_list']\n",
    "y_pred = predict_record['test_target_pred_list']"
   ]
  },
  {
   "cell_type": "code",
   "execution_count": 15,
   "metadata": {},
   "outputs": [
    {
     "output_type": "execute_result",
     "data": {
      "text/plain": [
       "0.9043478260869565"
      ]
     },
     "metadata": {},
     "execution_count": 15
    }
   ],
   "source": [
    "acc = get_acc(y, y_pred)\n",
    "acc"
   ]
  },
  {
   "cell_type": "code",
   "execution_count": 16,
   "metadata": {},
   "outputs": [],
   "source": [
    "cm = get_cm(y, y_pred)"
   ]
  },
  {
   "cell_type": "code",
   "execution_count": 19,
   "metadata": {},
   "outputs": [
    {
     "output_type": "execute_result",
     "data": {
      "text/plain": [
       "array([[31,  0,  0,  0,  1,  0,  1,  0,  0,  0],\n",
       "       [ 0, 37,  0,  0,  0,  0,  0,  0,  2,  0],\n",
       "       [ 0,  1, 31,  0,  0,  1,  2,  0,  0,  0],\n",
       "       [ 0,  0,  2, 26,  0,  2,  0,  1,  3,  1],\n",
       "       [ 0,  0,  0,  0, 33,  0,  0,  0,  1,  1],\n",
       "       [ 0,  0,  0,  4,  0, 25,  0,  0,  0,  1],\n",
       "       [ 0,  0,  0,  0,  0,  0, 33,  0,  1,  0],\n",
       "       [ 0,  0,  1,  0,  0,  0,  0, 36,  0,  0],\n",
       "       [ 1,  1,  0,  1,  0,  0,  0,  0, 29,  1],\n",
       "       [ 1,  0,  0,  0,  0,  0,  0,  2,  0, 31]])"
      ]
     },
     "metadata": {},
     "execution_count": 19
    }
   ],
   "source": [
    "cm"
   ]
  },
  {
   "cell_type": "code",
   "execution_count": null,
   "metadata": {},
   "outputs": [],
   "source": []
  }
 ]
}